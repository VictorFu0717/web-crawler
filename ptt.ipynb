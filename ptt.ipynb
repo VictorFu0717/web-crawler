{
  "nbformat": 4,
  "nbformat_minor": 0,
  "metadata": {
    "colab": {
      "name": "ptt.ipynb",
      "provenance": [],
      "collapsed_sections": [],
      "authorship_tag": "ABX9TyPFiWDfrpYDyERbpmWWx6Pq",
      "include_colab_link": true
    },
    "kernelspec": {
      "name": "python3",
      "display_name": "Python 3"
    },
    "language_info": {
      "name": "python"
    }
  },
  "cells": [
    {
      "cell_type": "markdown",
      "metadata": {
        "id": "view-in-github",
        "colab_type": "text"
      },
      "source": [
        "<a href=\"https://colab.research.google.com/github/VictorFu0717/web-crawler/blob/main/ptt.ipynb\" target=\"_parent\"><img src=\"https://colab.research.google.com/assets/colab-badge.svg\" alt=\"Open In Colab\"/></a>"
      ]
    },
    {
      "cell_type": "code",
      "metadata": {
        "colab": {
          "base_uri": "https://localhost:8080/"
        },
        "id": "6mJ1x34FD1t3",
        "outputId": "78ca62be-1e46-42ec-8742-3ad517daa4ac"
      },
      "source": [
        "import shutil\n",
        "import requests\n",
        "import os\n",
        "from bs4 import BeautifulSoup\n",
        "from urllib.request import urlopen\n",
        "import requests.packages.urllib3\n",
        "requests.packages.urllib3.disable_warnings()\n",
        "from urllib.error import HTTPError\n",
        "import time\n",
        "\n",
        "# 要搜尋的關鍵字清單，目前只拿到第一頁各20筆，需要更多頁\n",
        "que_ls = [\"增重\", \"減肥\", \"體脂\"] # , \"問題\", \"減脂\", \"增肌\",\n",
        "href_list = []\n",
        "page = 0\n",
        "\n",
        "# 抓到所有符合que_1s條件的頁數內容\n",
        "while page<31:\n",
        "  page = page + 1 \n",
        "  # print(\"page\", page)\n",
        "  try:\n",
        "  # Step:1 先取得文章連結\n",
        "      for que in que_ls:\n",
        "          url=\"https://www.ptt.cc/bbs/FITNESS/search?page=\" + str(page) +\"&q=\" + que\n",
        "\n",
        "          response = requests.get(url, verify = False, cookies = {\"over18\":\"1\"})\n",
        "          html = BeautifulSoup(response.text)\n",
        "          # print(html)\n",
        "          links = html.find_all(\"div\", class_=\"r-ent\")\n",
        "          links = [li.find(\"div\", class_=\"title\").find(\"a\")[\"href\"] for li in links]\n",
        "          for link in links:\n",
        "              href_ = \"https://www.ptt.cc/\" + link\n",
        "              href_list.append(href_)\n",
        "              # print(link)\n",
        "              # href_ =  link[\"href\"]\n",
        "              # if \"/M.\" in href_:\n",
        "                  # print(href_)\n",
        "\n",
        "  # 解決最後一頁出錯誤訊息\n",
        "  except HTTPError as e:\n",
        "      # code: 400, 404...etc\n",
        "      # reason: bad request...etc \n",
        "      if e.code == 400:\n",
        "          print(\"最後一頁\")\n",
        "      else:\n",
        "          print(\"其他錯誤\")\n",
        "      break\n",
        "\n",
        "print(\"拿到的文章數：\", len(href_list))\n",
        "\n",
        "\n",
        "\n",
        "\n",
        "for dn_no, url in enumerate(href_list, start=13):\n",
        "  response = requests.get(url, verify = False, cookies = {\"over18\":\"1\"})\n",
        "  html = BeautifulSoup(response.text)\n",
        "  try:\n",
        "    main_links = html.find(\"div\", id=\"main-content\").find_all(\"a\")\n",
        "  except:\n",
        "    # print(html)\n",
        "    print(\"-\"*20, \"Nonetype url\", \"-\"*20)\n",
        "    print(dn_no, url)\n",
        "    print(\"-\"*20, \"Nonetype url\", \"-\"*20)\n",
        "    time.sleep(3)\n",
        "    continue\n",
        "  # 文章標題當作資料夾名稱\n",
        "  # title = html.find(\"div\", id=\"main-content\").find_all(\"div\", class_=\"article-metaline\")[1].find(\"span\", class_=\"article-meta-value\").text\n",
        "  article = html.find(\"div\", id=\"main-content\").text\n",
        "  # title_container = html.find(\"div\", id=\"main-content\").find_all(\"div\", class_=\"article-metaline\")\n",
        "  # 判斷是否有標題(被刪文)，標題存在才執行\n",
        "  # if title_container:\n",
        "  #     title = html.find(\"div\", id=\"main-content\").find_all(\"div\", class_=\"article-metaline\")[1].find(\"span\", class_=\"article-meta-value\").text\n",
        "  #     article = html.find(\"div\", id=\"main-content\").text\n",
        "\n",
        "      \n",
        "  \n",
        "  if \"體脂\" and (\"臀圍\"or\"三圍\") in article:\n",
        "          dn = \"PTT/fitness/\" \n",
        "          if not os.path.exists(dn):\n",
        "            os.makedirs(dn)\n",
        "          art_ref = url.split(\"/\")[-1]\n",
        "          article_fn = dn + art_ref + \".txt\"\n",
        "          print(article_fn)\n",
        "          with open(article_fn, \"w\") as txtf:\n",
        "              txtf.write(article)  \n",
        "\n"
      ],
      "execution_count": null,
      "outputs": [
        {
          "output_type": "stream",
          "text": [
            "拿到的文章數： 1339\n",
            "PTT/fitness/M.1618717747.A.1CF.html.txt\n",
            "PTT/fitness/M.1618653054.A.256.html.txt\n",
            "PTT/fitness/M.1618717747.A.1CF.html.txt\n",
            "PTT/fitness/M.1618653054.A.256.html.txt\n",
            "PTT/fitness/M.1618224930.A.897.html.txt\n",
            "PTT/fitness/M.1616092728.A.12C.html.txt\n",
            "PTT/fitness/M.1613159937.A.1B3.html.txt\n",
            "PTT/fitness/M.1609623429.A.F18.html.txt\n",
            "PTT/fitness/M.1566532369.A.455.html.txt\n",
            "PTT/fitness/M.1284036016.A.65C.html.txt\n",
            "PTT/fitness/M.1552668156.A.454.html.txt\n",
            "PTT/fitness/M.1596454260.A.058.html.txt\n",
            "PTT/fitness/M.1546707735.A.7FF.html.txt\n",
            "PTT/fitness/M.1594035976.A.93A.html.txt\n",
            "PTT/fitness/M.1517491240.A.AD4.html.txt\n",
            "PTT/fitness/M.1571391232.A.A32.html.txt\n",
            "PTT/fitness/M.1483021526.A.604.html.txt\n",
            "PTT/fitness/M.1452446813.A.799.html.txt\n",
            "PTT/fitness/M.1558631865.A.F85.html.txt\n",
            "PTT/fitness/M.1557617885.A.BEB.html.txt\n",
            "PTT/fitness/M.1426405061.A.515.html.txt\n",
            "PTT/fitness/M.1552668156.A.454.html.txt\n",
            "PTT/fitness/M.1546707735.A.7FF.html.txt\n",
            "PTT/fitness/M.1539429700.A.B58.html.txt\n",
            "PTT/fitness/M.1532145787.A.322.html.txt\n",
            "PTT/fitness/M.1388471828.A.F57.html.txt\n",
            "PTT/fitness/M.1386991240.A.7B4.html.txt\n",
            "PTT/fitness/M.1383213065.A.C3C.html.txt\n"
          ],
          "name": "stdout"
        }
      ]
    }
  ]
}